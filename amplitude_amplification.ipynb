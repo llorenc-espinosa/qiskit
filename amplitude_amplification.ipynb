{
 "cells": [
  {
   "cell_type": "markdown",
   "id": "3700c211",
   "metadata": {},
   "source": [
    "Qiskit Project. Amplitude amplification."
   ]
  },
  {
   "cell_type": "markdown",
   "id": "82f5c4ae",
   "metadata": {},
   "source": [
    "First import all the packages we will need"
   ]
  },
  {
   "cell_type": "code",
   "execution_count": 166,
   "id": "04b42302",
   "metadata": {},
   "outputs": [],
   "source": [
    "import numpy as np\n",
    "import math\n",
    "import qiskit\n",
    "from qiskit import QuantumCircuit, QuantumRegister, ClassicalRegister\n",
    "from qiskit import BasicAer\n",
    "from qiskit.visualization import plot_histogram\n",
    "from qiskit.circuit.library import MCXGate\n",
    "from qiskit.extensions import UnitaryGate\n",
    "from qiskit import execute"
   ]
  },
  {
   "cell_type": "markdown",
   "id": "b730c785",
   "metadata": {},
   "source": [
    "Now we characterize the system we will work with. Let us assume we have an unstructured list and we want to find a marked item. We need to specify the length of the list, set by number of qubits and how many marked items there are (which for now will be just 1).\n",
    "\n",
    "In the standard Grover search, we have no additional information on the unstructured list. Here, we will assume that we have used a quantum algorithm that returns the marked item with probability p, which we also specify and will be used to build the initial quantum state. Here we assume the first algorithm is able to triple the probability to find the marked item compared to a completely random choice. The goal of this code is to further amplify this amplitude, i.e., to implement the amplitude amplification algorithm."
   ]
  },
  {
   "cell_type": "code",
   "execution_count": 258,
   "id": "28158ef4",
   "metadata": {},
   "outputs": [],
   "source": [
    "n_qubits = 8\n",
    "n_good = 1\n",
    "n_bad = 2**n_qubits - n_good\n",
    "p_good = 3/2**n_qubits"
   ]
  },
  {
   "cell_type": "markdown",
   "id": "0e22c790",
   "metadata": {},
   "source": [
    "We determine the marked item randomly and build the initial state. Of course, in a real scenario the marked item will unknown and the initial state, the output of the first algorithm, simply given. Here, however, we simply want to illustrate how amplification works."
   ]
  },
  {
   "cell_type": "code",
   "execution_count": 259,
   "id": "6cbc2786",
   "metadata": {},
   "outputs": [],
   "source": [
    "good_numbers = np.random.randint(0,2**n_qubits-1,n_good)\n",
    "\n",
    "good_states = []\n",
    "for number in good_numbers:\n",
    "    good_states.append(np.binary_repr(number,n_qubits))"
   ]
  },
  {
   "cell_type": "code",
   "execution_count": 260,
   "id": "62886172",
   "metadata": {},
   "outputs": [],
   "source": [
    "initial_state = []\n",
    "\n",
    "for number in range(2**n_qubits):\n",
    "    if number in good_numbers:\n",
    "        initial_state.append(np.sqrt(p_good/n_good))\n",
    "    else:\n",
    "        initial_state.append(np.sqrt((1-p_good)/n_bad))"
   ]
  },
  {
   "cell_type": "markdown",
   "id": "5991079f",
   "metadata": {},
   "source": [
    "Next, we build the functions required to build our circuit:\n",
    "\n",
    "- Oracle. This function takes the solution as an int number and builds a circuit that marks the corresponding computational state with a (-) phase using the phase kickback trick. This is equivalent to reflecting through thee non-solution states. Returns a QuantumCircuit object.\n",
    "\n",
    "- Reflection. This function takes the initial state and builds a circuit that performs a reflection through it. returns a QuantumCircuit object.\n",
    "\n",
    "- Grover iteration. This function composes one oracle and reflection steps. Returns a QuantumCircuit."
   ]
  },
  {
   "cell_type": "code",
   "execution_count": 261,
   "id": "11f02ace",
   "metadata": {},
   "outputs": [],
   "source": [
    "def oracle(solution, n_qubits):\n",
    "    \n",
    "    solution_bin = np.binary_repr(solution,n_qubits)\n",
    "    \n",
    "    qr = QuantumRegister(n_qubits, 'q')\n",
    "    anc = QuantumRegister(1, 'anc')\n",
    "    \n",
    "    oracle = QuantumCircuit(qr, anc)\n",
    "\n",
    "    for i in range(n_qubits):\n",
    "        if solution_bin[-i-1] == '0':\n",
    "            oracle.x(qr[i])\n",
    "    \n",
    "    oracle.x(anc[0])\n",
    "    oracle.h(anc[0])\n",
    "    \n",
    "    oracle.mcx(qr,anc)\n",
    "    \n",
    "    for i in range(n_qubits):\n",
    "        if solution_bin[-i-1] == '0':\n",
    "            oracle.x(qr[i])\n",
    "    \n",
    "    oracle.h(anc[0])\n",
    "    oracle.x(anc[0])\n",
    "    \n",
    "    return oracle"
   ]
  },
  {
   "cell_type": "code",
   "execution_count": null,
   "id": "37dc0632",
   "metadata": {},
   "outputs": [],
   "source": []
  },
  {
   "cell_type": "code",
   "execution_count": 262,
   "id": "2f0dc4a1",
   "metadata": {},
   "outputs": [],
   "source": [
    "def reflection(initial_state, n_qubits):\n",
    "    initial_projector = np.tensordot(initial_state, initial_state, axes = 0)\n",
    "    unitary = 2*initial_projector - np.identity(2**n_qubits)\n",
    "    gate = UnitaryGate(unitary,'reflection_gate')\n",
    "    reflection = QuantumCircuit(n_qubits)\n",
    "    reflection.append(gate,list(range(n_qubits)))\n",
    "    return reflection"
   ]
  },
  {
   "cell_type": "code",
   "execution_count": 263,
   "id": "e4c5992a",
   "metadata": {},
   "outputs": [],
   "source": [
    "def grover_iteration(oracle, reflection, n_qubits):\n",
    "    \n",
    "    grover = QuantumCircuit(n_qubits+1)\n",
    "    \n",
    "    qr = QuantumRegister(n_qubits, 'q')\n",
    "    anc = QuantumRegister(1, 'anc')\n",
    "    \n",
    "    qc = QuantumCircuit(qr, anc)\n",
    "    qc.compose(oracle,range(n_qubits+1),inplace=True)\n",
    "    qc.compose(reflection,range(n_qubits),inplace=True)\n",
    "    \n",
    "    return qc"
   ]
  },
  {
   "cell_type": "markdown",
   "id": "1ba298b6",
   "metadata": {},
   "source": [
    "Now we build the circuit that performs the amplitude amplification itself. This is achieved by computing the number of required iterations using the num_iter function and then applying as many modified Grover iterations as required."
   ]
  },
  {
   "cell_type": "code",
   "execution_count": 264,
   "id": "746cea28",
   "metadata": {},
   "outputs": [],
   "source": [
    "def num_iter(p_good):\n",
    "    theta = np.arcsin(np.sqrt(p_good))\n",
    "    return int(np.round(math.pi/(4 * theta) - 1/2))"
   ]
  },
  {
   "cell_type": "code",
   "execution_count": 265,
   "id": "30ca60c8",
   "metadata": {},
   "outputs": [
    {
     "data": {
      "text/plain": [
       "<qiskit.circuit.instructionset.InstructionSet at 0x7fc4981a12d0>"
      ]
     },
     "execution_count": 265,
     "metadata": {},
     "output_type": "execute_result"
    }
   ],
   "source": [
    "qr = QuantumRegister(n_qubits, 'q')\n",
    "anc = QuantumRegister(1, 'anc')\n",
    "c = ClassicalRegister(n_qubits)\n",
    "qc = QuantumCircuit(qr, anc,c)\n",
    "\n",
    "qc.initialize(initial_state,qr)\n",
    "\n",
    "n_iter = num_iter(p_good)\n",
    "\n",
    "for iter in range(n_iter):\n",
    "    qc.compose(grover_iteration(oracle(good_numbers[0],n_qubits),reflection(initial_state,n_qubits),n_qubits),range(n_qubits+1),inplace=True)\n",
    "\n",
    "qc.measure(qr,c)"
   ]
  },
  {
   "cell_type": "markdown",
   "id": "eeaf153b",
   "metadata": {},
   "source": [
    "We check now that the algorithm works by executing it on a a simulator"
   ]
  },
  {
   "cell_type": "code",
   "execution_count": 266,
   "id": "df23e4f3",
   "metadata": {},
   "outputs": [
    {
     "data": {
      "text/plain": [
       "{'11010101': 1020, '00111001': 1, '01010000': 1, '11011100': 1, '11010000': 1}"
      ]
     },
     "execution_count": 266,
     "metadata": {},
     "output_type": "execute_result"
    }
   ],
   "source": [
    "backend = BasicAer.get_backend('qasm_simulator')\n",
    "result = execute(qc, backend,shots=1024).result()\n",
    "result.get_counts()"
   ]
  },
  {
   "cell_type": "markdown",
   "id": "65b56ce6",
   "metadata": {},
   "source": [
    "And compare the probabilities"
   ]
  },
  {
   "cell_type": "code",
   "execution_count": 267,
   "id": "e7c8c4d7",
   "metadata": {},
   "outputs": [],
   "source": [
    "p_new_estimate = result.get_counts()[np.binary_repr(good_numbers[0],n_qubits)]/1024"
   ]
  },
  {
   "cell_type": "code",
   "execution_count": 268,
   "id": "fe02d35e",
   "metadata": {},
   "outputs": [
    {
     "data": {
      "text/plain": [
       "85.0"
      ]
     },
     "execution_count": 268,
     "metadata": {},
     "output_type": "execute_result"
    }
   ],
   "source": [
    "p_new_estimate/p_good"
   ]
  },
  {
   "cell_type": "code",
   "execution_count": 269,
   "id": "94230954",
   "metadata": {},
   "outputs": [
    {
     "data": {
      "text/plain": [
       "0.99609375"
      ]
     },
     "execution_count": 269,
     "metadata": {},
     "output_type": "execute_result"
    }
   ],
   "source": [
    "p_new_estimate"
   ]
  },
  {
   "cell_type": "markdown",
   "id": "f2abbbd5",
   "metadata": {},
   "source": [
    "There is a huge increase in the probability that we get the marked item upon measurement!"
   ]
  },
  {
   "cell_type": "code",
   "execution_count": null,
   "id": "b5311e39",
   "metadata": {},
   "outputs": [],
   "source": []
  },
  {
   "cell_type": "code",
   "execution_count": null,
   "id": "1be75ae1",
   "metadata": {},
   "outputs": [],
   "source": []
  },
  {
   "cell_type": "code",
   "execution_count": null,
   "id": "18c1de73",
   "metadata": {},
   "outputs": [],
   "source": []
  }
 ],
 "metadata": {
  "kernelspec": {
   "display_name": "Python 3 (ipykernel)",
   "language": "python",
   "name": "python3"
  },
  "language_info": {
   "codemirror_mode": {
    "name": "ipython",
    "version": 3
   },
   "file_extension": ".py",
   "mimetype": "text/x-python",
   "name": "python",
   "nbconvert_exporter": "python",
   "pygments_lexer": "ipython3",
   "version": "3.7.4"
  }
 },
 "nbformat": 4,
 "nbformat_minor": 5
}
